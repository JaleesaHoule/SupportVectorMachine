{
 "cells": [
  {
   "cell_type": "code",
   "execution_count": 1,
   "id": "a65ab229",
   "metadata": {},
   "outputs": [],
   "source": [
    "import numpy as np\n",
    "import scipy \n",
    "import pandas as pd\n",
    "from libsvm.svmutil import *\n",
    "from sklearn.preprocessing import MinMaxScaler\n",
    "\n",
    "import SVM_functions"
   ]
  },
  {
   "cell_type": "markdown",
   "id": "6037ce7a",
   "metadata": {},
   "source": [
    "# Experiment 1: Apply Support Vector Machines (SVMs) for gender classification. Experiment both with polynomial and RBF kernels as well as with different C values. Show your results both for 16x20 and 48x60 size images.\n",
    "\n",
    "\n",
    "### Naming convention:\n",
    "#### EigenVectors_xx: eigenvectors of training images for fold xx \n",
    "#### EigenValues_xx:  eigenvalues of training images for fold xx\n",
    "\n",
    "#### trPCA_xx: \tPCA projected training images for fold xx\n",
    "#### TtrPCA_xx: labels of projected training images for fold xx\n",
    "\n",
    "#### valPCA_xx: PCA projected validation images for fold xx\n",
    "#### TvalPCA_xx: labels of projected validation images for fold xx\n",
    "\n",
    "#### tsPCA_xx: PCA projected test images for fold xx\n",
    "#### TtsPCA_xx: labels of projected test images for fold xx\n",
    "\n"
   ]
  },
  {
   "cell_type": "markdown",
   "id": "7e1f2371",
   "metadata": {},
   "source": [
    "# Fold 1"
   ]
  },
  {
   "cell_type": "markdown",
   "id": "2e9f8f23",
   "metadata": {},
   "source": [
    "## High Resolution"
   ]
  },
  {
   "cell_type": "code",
   "execution_count": 2,
   "id": "ee1bb062",
   "metadata": {},
   "outputs": [],
   "source": [
    "# training data\n",
    "train_eigencoefficients_f1  = np.loadtxt('GenderDataRowOrder/48_60/trPCA_01.txt')\n",
    "train_class_labels_f1  = np.loadtxt('GenderDataRowOrder/48_60/TtrPCA_01.txt')\n",
    "\n",
    "# validation data\n",
    "\n",
    "val_eigencoefficients_f1 = np.loadtxt('GenderDataRowOrder/48_60/valPCA_01.txt')\n",
    "val_class_labels_f1  = np.loadtxt('GenderDataRowOrder/48_60/TvalPCA_01.txt')"
   ]
  },
  {
   "cell_type": "markdown",
   "id": "178dbc85",
   "metadata": {},
   "source": [
    "### Polynomial kernel"
   ]
  },
  {
   "cell_type": "code",
   "execution_count": 3,
   "id": "42d076b6",
   "metadata": {
    "scrolled": true
   },
   "outputs": [],
   "source": [
    "fold1_poly_results, fold1_poly_misclassifications = SVM_functions.train_model(train_eigencoefficients_f1[:,:30], train_class_labels_f1, val_eigencoefficients_f1[:,:30], val_class_labels_f1 , kernel='poly')\n",
    "\n"
   ]
  },
  {
   "cell_type": "markdown",
   "id": "f415b6e7",
   "metadata": {},
   "source": [
    "### RBF kernel"
   ]
  },
  {
   "cell_type": "code",
   "execution_count": 4,
   "id": "e9bcbb4a",
   "metadata": {
    "scrolled": true
   },
   "outputs": [],
   "source": [
    "fold1_RBF_results, fold1_RBF_misclassifications = SVM_functions.train_model(train_eigencoefficients_f1[:,:30], train_class_labels_f1, val_eigencoefficients_f1[:,:30], val_class_labels_f1 , kernel='RBF')\n",
    "\n"
   ]
  },
  {
   "cell_type": "markdown",
   "id": "b1a05dff",
   "metadata": {},
   "source": [
    "## Low Resolution"
   ]
  },
  {
   "cell_type": "code",
   "execution_count": 5,
   "id": "15716877",
   "metadata": {},
   "outputs": [],
   "source": [
    "# training data\n",
    "train_eigencoefficients_f1_lowres  = np.loadtxt('GenderDataRowOrder/16_20/trPCA_01.txt')\n",
    "train_class_labels_f1_lowres  = np.loadtxt('GenderDataRowOrder/16_20/TtrPCA_01.txt')\n",
    "\n",
    "# validation data\n",
    "\n",
    "val_eigencoefficients_f1_lowres = np.loadtxt('GenderDataRowOrder/16_20/valPCA_01.txt')\n",
    "val_class_labels_f1_lowres  = np.loadtxt('GenderDataRowOrder/16_20/TvalPCA_01.txt')"
   ]
  },
  {
   "cell_type": "markdown",
   "id": "4e55428c",
   "metadata": {},
   "source": [
    "### Polynomial kernel\n"
   ]
  },
  {
   "cell_type": "code",
   "execution_count": 6,
   "id": "8589d543",
   "metadata": {},
   "outputs": [],
   "source": [
    "fold1_poly_results_lowres, fold1_poly_misclassifications_lowres = SVM_functions.train_model(train_eigencoefficients_f1_lowres[:,:30], train_class_labels_f1_lowres, val_eigencoefficients_f1_lowres[:,:30], val_class_labels_f1_lowres , kernel='poly')\n",
    "\n"
   ]
  },
  {
   "cell_type": "markdown",
   "id": "757788e5",
   "metadata": {},
   "source": [
    "### RBF kernel"
   ]
  },
  {
   "cell_type": "code",
   "execution_count": 7,
   "id": "e1b2dec8",
   "metadata": {
    "scrolled": true
   },
   "outputs": [],
   "source": [
    "fold1_RBF_results_lowres, fold1_RBF_misclassifications_lowres = SVM_functions.train_model(train_eigencoefficients_f1_lowres[:,:30], train_class_labels_f1_lowres, val_eigencoefficients_f1_lowres[:,:30], val_class_labels_f1_lowres , kernel='RBF')\n",
    "\n",
    "\n"
   ]
  },
  {
   "cell_type": "markdown",
   "id": "8e1c6809",
   "metadata": {},
   "source": [
    "# Fold 2"
   ]
  },
  {
   "cell_type": "markdown",
   "id": "bd894677",
   "metadata": {},
   "source": [
    "## High Resolution"
   ]
  },
  {
   "cell_type": "code",
   "execution_count": 8,
   "id": "4b5397d4",
   "metadata": {},
   "outputs": [],
   "source": [
    "train_eigencoefficients_f2  = np.loadtxt('GenderDataRowOrder/48_60/trPCA_02.txt')\n",
    "train_class_labels_f2  = np.loadtxt('GenderDataRowOrder/48_60/TtrPCA_02.txt')\n",
    "\n",
    "val_eigencoefficients_f2 = np.loadtxt('GenderDataRowOrder/48_60/valPCA_02.txt')\n",
    "val_class_labels_f2  = np.loadtxt('GenderDataRowOrder/48_60/TvalPCA_02.txt')"
   ]
  },
  {
   "cell_type": "markdown",
   "id": "03271de4",
   "metadata": {},
   "source": [
    "### Polynomial kernel"
   ]
  },
  {
   "cell_type": "code",
   "execution_count": 9,
   "id": "312d0121",
   "metadata": {
    "scrolled": true
   },
   "outputs": [],
   "source": [
    "fold2_poly_results, fold2_poly_misclassifications = SVM_functions.train_model(train_eigencoefficients_f2[:,:30], train_class_labels_f2, val_eigencoefficients_f2[:,:30], val_class_labels_f2 , kernel='poly')\n",
    "\n"
   ]
  },
  {
   "cell_type": "markdown",
   "id": "3f3cd9c0",
   "metadata": {},
   "source": [
    "### RBF kernel"
   ]
  },
  {
   "cell_type": "code",
   "execution_count": 10,
   "id": "66ab704b",
   "metadata": {
    "scrolled": true
   },
   "outputs": [],
   "source": [
    "fold2_RBF_results, fold2_RBF_misclassifications = SVM_functions.train_model(train_eigencoefficients_f2[:,:30], train_class_labels_f2, val_eigencoefficients_f2[:,:30], val_class_labels_f2 , kernel='RBF')\n",
    "\n",
    "\n"
   ]
  },
  {
   "cell_type": "markdown",
   "id": "1fc54496",
   "metadata": {},
   "source": [
    "## Low Resolution"
   ]
  },
  {
   "cell_type": "code",
   "execution_count": 11,
   "id": "c3c266b8",
   "metadata": {},
   "outputs": [],
   "source": [
    "train_eigencoefficients_f2_lowres  = np.loadtxt('GenderDataRowOrder/16_20/trPCA_02.txt')\n",
    "train_class_labels_f2_lowres  = np.loadtxt('GenderDataRowOrder/16_20/TtrPCA_02.txt')\n",
    "\n",
    "val_eigencoefficients_f2_lowres = np.loadtxt('GenderDataRowOrder/16_20/valPCA_02.txt')\n",
    "val_class_labels_f2_lowres  = np.loadtxt('GenderDataRowOrder/16_20/TvalPCA_02.txt')"
   ]
  },
  {
   "cell_type": "markdown",
   "id": "0d3e2d85",
   "metadata": {},
   "source": [
    "### Polynomial kernel"
   ]
  },
  {
   "cell_type": "code",
   "execution_count": 12,
   "id": "eca4c682",
   "metadata": {
    "scrolled": true
   },
   "outputs": [],
   "source": [
    "fold2_poly_results_lowres, fold2_poly_misclassifications_lowres = SVM_functions.train_model(train_eigencoefficients_f2_lowres[:,:30], train_class_labels_f2_lowres, val_eigencoefficients_f2_lowres[:,:30], val_class_labels_f2_lowres , kernel='poly')\n",
    "\n"
   ]
  },
  {
   "cell_type": "markdown",
   "id": "cfa16373",
   "metadata": {},
   "source": [
    "### RBF kernel"
   ]
  },
  {
   "cell_type": "code",
   "execution_count": 13,
   "id": "2472c872",
   "metadata": {
    "scrolled": true
   },
   "outputs": [],
   "source": [
    "fold2_RBF_results_lowres, fold2_RBF_misclassifications_lowres = SVM_functions.train_model(train_eigencoefficients_f2_lowres[:,:30], train_class_labels_f2_lowres, val_eigencoefficients_f2_lowres[:,:30], val_class_labels_f2_lowres , kernel='RBF')\n",
    "\n",
    "\n"
   ]
  },
  {
   "cell_type": "markdown",
   "id": "e24c8e21",
   "metadata": {},
   "source": [
    "# Fold 3"
   ]
  },
  {
   "cell_type": "markdown",
   "id": "e3acecd8",
   "metadata": {},
   "source": [
    "## High Resolution"
   ]
  },
  {
   "cell_type": "code",
   "execution_count": 14,
   "id": "99946ca9",
   "metadata": {},
   "outputs": [],
   "source": [
    "train_eigencoefficients_f3  = np.loadtxt('GenderDataRowOrder/48_60/trPCA_03.txt')\n",
    "train_class_labels_f3  = np.loadtxt('GenderDataRowOrder/48_60/TtrPCA_03.txt')\n",
    "\n",
    "val_eigencoefficients_f3 = np.loadtxt('GenderDataRowOrder/48_60/valPCA_03.txt')\n",
    "val_class_labels_f3  = np.loadtxt('GenderDataRowOrder/48_60/TvalPCA_03.txt')"
   ]
  },
  {
   "cell_type": "markdown",
   "id": "f34aa6f4",
   "metadata": {},
   "source": [
    "### Polynomial kernel"
   ]
  },
  {
   "cell_type": "code",
   "execution_count": 15,
   "id": "32dc465d",
   "metadata": {},
   "outputs": [],
   "source": [
    "fold3_poly_results, fold3_poly_misclassifications = SVM_functions.train_model(train_eigencoefficients_f3[:,:30], train_class_labels_f3, val_eigencoefficients_f3[:,:30], val_class_labels_f3 , kernel='poly')\n",
    "\n"
   ]
  },
  {
   "cell_type": "markdown",
   "id": "63c5288a",
   "metadata": {},
   "source": [
    "### RBF kernel"
   ]
  },
  {
   "cell_type": "code",
   "execution_count": 16,
   "id": "2bdeb71a",
   "metadata": {
    "scrolled": true
   },
   "outputs": [],
   "source": [
    "fold3_RBF_results, fold3_RBF_misclassifications = SVM_functions.train_model(train_eigencoefficients_f3[:,:30], train_class_labels_f3, val_eigencoefficients_f3[:,:30], val_class_labels_f3 , kernel='RBF')\n",
    "\n",
    "\n"
   ]
  },
  {
   "cell_type": "markdown",
   "id": "dfbab646",
   "metadata": {},
   "source": [
    "## Low Resolution"
   ]
  },
  {
   "cell_type": "code",
   "execution_count": 17,
   "id": "0c0a2e2a",
   "metadata": {},
   "outputs": [],
   "source": [
    "train_eigencoefficients_f3_lowres  = np.loadtxt('GenderDataRowOrder/16_20/trPCA_03.txt')\n",
    "train_class_labels_f3_lowres  = np.loadtxt('GenderDataRowOrder/16_20/TtrPCA_03.txt')\n",
    "\n",
    "val_eigencoefficients_f3_lowres = np.loadtxt('GenderDataRowOrder/16_20/valPCA_03.txt')\n",
    "val_class_labels_f3_lowres  = np.loadtxt('GenderDataRowOrder/16_20/TvalPCA_03.txt')"
   ]
  },
  {
   "cell_type": "markdown",
   "id": "c0239964",
   "metadata": {},
   "source": [
    "### Polynomial kernel"
   ]
  },
  {
   "cell_type": "code",
   "execution_count": 18,
   "id": "e0c34e48",
   "metadata": {},
   "outputs": [],
   "source": [
    "fold3_poly_results_lowres, fold3_poly_misclassifications_lowres = SVM_functions.train_model(train_eigencoefficients_f3_lowres[:,:30], train_class_labels_f3_lowres, val_eigencoefficients_f3_lowres[:,:30], val_class_labels_f3_lowres , kernel='poly')\n",
    "\n"
   ]
  },
  {
   "cell_type": "markdown",
   "id": "6d56e22b",
   "metadata": {},
   "source": [
    "### RBF kernel"
   ]
  },
  {
   "cell_type": "code",
   "execution_count": 19,
   "id": "fbfe2895",
   "metadata": {
    "scrolled": true
   },
   "outputs": [],
   "source": [
    "fold3_RBF_results_lowres, fold3_RBF_misclassifications_lowres = SVM_functions.train_model(train_eigencoefficients_f3_lowres[:,:30], train_class_labels_f3_lowres, val_eigencoefficients_f3_lowres[:,:30], val_class_labels_f3_lowres , kernel='RBF')\n",
    "\n",
    "\n"
   ]
  },
  {
   "cell_type": "markdown",
   "id": "41b17f04",
   "metadata": {},
   "source": [
    "# Find the optimum set of parameters (γopt, Copt)"
   ]
  },
  {
   "cell_type": "markdown",
   "id": "949c1c19",
   "metadata": {},
   "source": [
    "### High Resolution Images"
   ]
  },
  {
   "cell_type": "code",
   "execution_count": 20,
   "id": "7560960d",
   "metadata": {},
   "outputs": [
    {
     "name": "stdout",
     "output_type": "stream",
     "text": [
      "Best average error:  [9.02255639]\n",
      "Best parameters:  ['RBF, gamma= 0.1, C= 1']\n"
     ]
    }
   ],
   "source": [
    "misclassifications_highres = [np.concatenate([fold1_poly_misclassifications,fold1_RBF_misclassifications]), np.concatenate([fold2_poly_misclassifications,fold2_RBF_misclassifications]), np.concatenate([fold3_poly_misclassifications,fold3_RBF_misclassifications])]\n",
    "kernel_summaries_highres= [np.concatenate([fold1_poly_results, fold1_RBF_results]), np.concatenate([fold2_poly_results, fold2_RBF_results]), np.concatenate([fold3_poly_results, fold3_RBF_results])]\n",
    "\n",
    "high_res_summarydf = SVM_functions.get_optimum_params(misclassifications_highres, kernel_summaries_highres)\n"
   ]
  },
  {
   "cell_type": "code",
   "execution_count": 21,
   "id": "4e494c0c",
   "metadata": {},
   "outputs": [
    {
     "data": {
      "text/html": [
       "<div>\n",
       "<style scoped>\n",
       "    .dataframe tbody tr th:only-of-type {\n",
       "        vertical-align: middle;\n",
       "    }\n",
       "\n",
       "    .dataframe tbody tr th {\n",
       "        vertical-align: top;\n",
       "    }\n",
       "\n",
       "    .dataframe thead th {\n",
       "        text-align: right;\n",
       "    }\n",
       "</style>\n",
       "<table border=\"1\" class=\"dataframe\">\n",
       "  <thead>\n",
       "    <tr style=\"text-align: right;\">\n",
       "      <th></th>\n",
       "      <th>Params</th>\n",
       "      <th>Fold1</th>\n",
       "      <th>Fold2</th>\n",
       "      <th>Fold3</th>\n",
       "      <th>Average</th>\n",
       "    </tr>\n",
       "  </thead>\n",
       "  <tbody>\n",
       "    <tr>\n",
       "      <th>0</th>\n",
       "      <td>Polynomial, d= 1, C= 0.1</td>\n",
       "      <td>10.526316</td>\n",
       "      <td>4.511278</td>\n",
       "      <td>12.781955</td>\n",
       "      <td>9.273183</td>\n",
       "    </tr>\n",
       "    <tr>\n",
       "      <th>1</th>\n",
       "      <td>Polynomial, d= 1, C= 1</td>\n",
       "      <td>9.022556</td>\n",
       "      <td>8.270677</td>\n",
       "      <td>23.308271</td>\n",
       "      <td>13.533835</td>\n",
       "    </tr>\n",
       "    <tr>\n",
       "      <th>2</th>\n",
       "      <td>Polynomial, d= 1, C= 10</td>\n",
       "      <td>10.526316</td>\n",
       "      <td>9.022556</td>\n",
       "      <td>26.315789</td>\n",
       "      <td>15.288221</td>\n",
       "    </tr>\n",
       "    <tr>\n",
       "      <th>3</th>\n",
       "      <td>Polynomial, d= 1, C= 100</td>\n",
       "      <td>10.526316</td>\n",
       "      <td>17.293233</td>\n",
       "      <td>26.315789</td>\n",
       "      <td>18.045113</td>\n",
       "    </tr>\n",
       "    <tr>\n",
       "      <th>4</th>\n",
       "      <td>Polynomial, d= 2, C= 0.1</td>\n",
       "      <td>18.045113</td>\n",
       "      <td>20.300752</td>\n",
       "      <td>20.300752</td>\n",
       "      <td>19.548872</td>\n",
       "    </tr>\n",
       "    <tr>\n",
       "      <th>5</th>\n",
       "      <td>Polynomial, d= 2, C= 1</td>\n",
       "      <td>16.541353</td>\n",
       "      <td>23.308271</td>\n",
       "      <td>21.052632</td>\n",
       "      <td>20.300752</td>\n",
       "    </tr>\n",
       "    <tr>\n",
       "      <th>6</th>\n",
       "      <td>Polynomial, d= 2, C= 10</td>\n",
       "      <td>16.541353</td>\n",
       "      <td>23.308271</td>\n",
       "      <td>21.052632</td>\n",
       "      <td>20.300752</td>\n",
       "    </tr>\n",
       "    <tr>\n",
       "      <th>7</th>\n",
       "      <td>Polynomial, d= 2, C= 100</td>\n",
       "      <td>16.541353</td>\n",
       "      <td>23.308271</td>\n",
       "      <td>21.052632</td>\n",
       "      <td>20.300752</td>\n",
       "    </tr>\n",
       "    <tr>\n",
       "      <th>8</th>\n",
       "      <td>Polynomial, d= 3, C= 0.1</td>\n",
       "      <td>9.774436</td>\n",
       "      <td>6.015038</td>\n",
       "      <td>13.533835</td>\n",
       "      <td>9.774436</td>\n",
       "    </tr>\n",
       "    <tr>\n",
       "      <th>9</th>\n",
       "      <td>Polynomial, d= 3, C= 1</td>\n",
       "      <td>9.774436</td>\n",
       "      <td>6.015038</td>\n",
       "      <td>13.533835</td>\n",
       "      <td>9.774436</td>\n",
       "    </tr>\n",
       "    <tr>\n",
       "      <th>10</th>\n",
       "      <td>Polynomial, d= 3, C= 10</td>\n",
       "      <td>9.774436</td>\n",
       "      <td>6.015038</td>\n",
       "      <td>13.533835</td>\n",
       "      <td>9.774436</td>\n",
       "    </tr>\n",
       "    <tr>\n",
       "      <th>11</th>\n",
       "      <td>Polynomial, d= 3, C= 100</td>\n",
       "      <td>9.774436</td>\n",
       "      <td>6.015038</td>\n",
       "      <td>13.533835</td>\n",
       "      <td>9.774436</td>\n",
       "    </tr>\n",
       "    <tr>\n",
       "      <th>12</th>\n",
       "      <td>RBF, gamma= 0.1, C= 0.1</td>\n",
       "      <td>45.112782</td>\n",
       "      <td>43.609023</td>\n",
       "      <td>49.624060</td>\n",
       "      <td>46.115288</td>\n",
       "    </tr>\n",
       "    <tr>\n",
       "      <th>13</th>\n",
       "      <td>RBF, gamma= 0.1, C= 1</td>\n",
       "      <td>9.022556</td>\n",
       "      <td>5.263158</td>\n",
       "      <td>12.781955</td>\n",
       "      <td>9.022556</td>\n",
       "    </tr>\n",
       "    <tr>\n",
       "      <th>14</th>\n",
       "      <td>RBF, gamma= 0.1, C= 10</td>\n",
       "      <td>9.022556</td>\n",
       "      <td>7.518797</td>\n",
       "      <td>17.293233</td>\n",
       "      <td>11.278195</td>\n",
       "    </tr>\n",
       "    <tr>\n",
       "      <th>15</th>\n",
       "      <td>RBF, gamma= 0.1, C= 100</td>\n",
       "      <td>9.022556</td>\n",
       "      <td>8.270677</td>\n",
       "      <td>17.293233</td>\n",
       "      <td>11.528822</td>\n",
       "    </tr>\n",
       "    <tr>\n",
       "      <th>16</th>\n",
       "      <td>RBF, gamma= 1, C= 0.1</td>\n",
       "      <td>45.112782</td>\n",
       "      <td>43.609023</td>\n",
       "      <td>49.624060</td>\n",
       "      <td>46.115288</td>\n",
       "    </tr>\n",
       "    <tr>\n",
       "      <th>17</th>\n",
       "      <td>RBF, gamma= 1, C= 1</td>\n",
       "      <td>28.571429</td>\n",
       "      <td>22.556391</td>\n",
       "      <td>41.353383</td>\n",
       "      <td>30.827068</td>\n",
       "    </tr>\n",
       "    <tr>\n",
       "      <th>18</th>\n",
       "      <td>RBF, gamma= 1, C= 10</td>\n",
       "      <td>27.819549</td>\n",
       "      <td>18.796992</td>\n",
       "      <td>37.593985</td>\n",
       "      <td>28.070175</td>\n",
       "    </tr>\n",
       "    <tr>\n",
       "      <th>19</th>\n",
       "      <td>RBF, gamma= 1, C= 100</td>\n",
       "      <td>27.819549</td>\n",
       "      <td>18.796992</td>\n",
       "      <td>37.593985</td>\n",
       "      <td>28.070175</td>\n",
       "    </tr>\n",
       "    <tr>\n",
       "      <th>20</th>\n",
       "      <td>RBF, gamma= 10, C= 0.1</td>\n",
       "      <td>45.112782</td>\n",
       "      <td>43.609023</td>\n",
       "      <td>49.624060</td>\n",
       "      <td>46.115288</td>\n",
       "    </tr>\n",
       "    <tr>\n",
       "      <th>21</th>\n",
       "      <td>RBF, gamma= 10, C= 1</td>\n",
       "      <td>45.112782</td>\n",
       "      <td>43.609023</td>\n",
       "      <td>49.624060</td>\n",
       "      <td>46.115288</td>\n",
       "    </tr>\n",
       "    <tr>\n",
       "      <th>22</th>\n",
       "      <td>RBF, gamma= 10, C= 10</td>\n",
       "      <td>45.112782</td>\n",
       "      <td>43.609023</td>\n",
       "      <td>49.624060</td>\n",
       "      <td>46.115288</td>\n",
       "    </tr>\n",
       "    <tr>\n",
       "      <th>23</th>\n",
       "      <td>RBF, gamma= 10, C= 100</td>\n",
       "      <td>45.112782</td>\n",
       "      <td>43.609023</td>\n",
       "      <td>49.624060</td>\n",
       "      <td>46.115288</td>\n",
       "    </tr>\n",
       "    <tr>\n",
       "      <th>24</th>\n",
       "      <td>RBF, gamma= 100, C= 0.1</td>\n",
       "      <td>45.112782</td>\n",
       "      <td>43.609023</td>\n",
       "      <td>49.624060</td>\n",
       "      <td>46.115288</td>\n",
       "    </tr>\n",
       "    <tr>\n",
       "      <th>25</th>\n",
       "      <td>RBF, gamma= 100, C= 1</td>\n",
       "      <td>45.112782</td>\n",
       "      <td>43.609023</td>\n",
       "      <td>49.624060</td>\n",
       "      <td>46.115288</td>\n",
       "    </tr>\n",
       "    <tr>\n",
       "      <th>26</th>\n",
       "      <td>RBF, gamma= 100, C= 10</td>\n",
       "      <td>45.112782</td>\n",
       "      <td>43.609023</td>\n",
       "      <td>49.624060</td>\n",
       "      <td>46.115288</td>\n",
       "    </tr>\n",
       "    <tr>\n",
       "      <th>27</th>\n",
       "      <td>RBF, gamma= 100, C= 100</td>\n",
       "      <td>45.112782</td>\n",
       "      <td>43.609023</td>\n",
       "      <td>49.624060</td>\n",
       "      <td>46.115288</td>\n",
       "    </tr>\n",
       "  </tbody>\n",
       "</table>\n",
       "</div>"
      ],
      "text/plain": [
       "                      Params      Fold1      Fold2      Fold3    Average\n",
       "0   Polynomial, d= 1, C= 0.1  10.526316   4.511278  12.781955   9.273183\n",
       "1     Polynomial, d= 1, C= 1   9.022556   8.270677  23.308271  13.533835\n",
       "2    Polynomial, d= 1, C= 10  10.526316   9.022556  26.315789  15.288221\n",
       "3   Polynomial, d= 1, C= 100  10.526316  17.293233  26.315789  18.045113\n",
       "4   Polynomial, d= 2, C= 0.1  18.045113  20.300752  20.300752  19.548872\n",
       "5     Polynomial, d= 2, C= 1  16.541353  23.308271  21.052632  20.300752\n",
       "6    Polynomial, d= 2, C= 10  16.541353  23.308271  21.052632  20.300752\n",
       "7   Polynomial, d= 2, C= 100  16.541353  23.308271  21.052632  20.300752\n",
       "8   Polynomial, d= 3, C= 0.1   9.774436   6.015038  13.533835   9.774436\n",
       "9     Polynomial, d= 3, C= 1   9.774436   6.015038  13.533835   9.774436\n",
       "10   Polynomial, d= 3, C= 10   9.774436   6.015038  13.533835   9.774436\n",
       "11  Polynomial, d= 3, C= 100   9.774436   6.015038  13.533835   9.774436\n",
       "12   RBF, gamma= 0.1, C= 0.1  45.112782  43.609023  49.624060  46.115288\n",
       "13     RBF, gamma= 0.1, C= 1   9.022556   5.263158  12.781955   9.022556\n",
       "14    RBF, gamma= 0.1, C= 10   9.022556   7.518797  17.293233  11.278195\n",
       "15   RBF, gamma= 0.1, C= 100   9.022556   8.270677  17.293233  11.528822\n",
       "16     RBF, gamma= 1, C= 0.1  45.112782  43.609023  49.624060  46.115288\n",
       "17       RBF, gamma= 1, C= 1  28.571429  22.556391  41.353383  30.827068\n",
       "18      RBF, gamma= 1, C= 10  27.819549  18.796992  37.593985  28.070175\n",
       "19     RBF, gamma= 1, C= 100  27.819549  18.796992  37.593985  28.070175\n",
       "20    RBF, gamma= 10, C= 0.1  45.112782  43.609023  49.624060  46.115288\n",
       "21      RBF, gamma= 10, C= 1  45.112782  43.609023  49.624060  46.115288\n",
       "22     RBF, gamma= 10, C= 10  45.112782  43.609023  49.624060  46.115288\n",
       "23    RBF, gamma= 10, C= 100  45.112782  43.609023  49.624060  46.115288\n",
       "24   RBF, gamma= 100, C= 0.1  45.112782  43.609023  49.624060  46.115288\n",
       "25     RBF, gamma= 100, C= 1  45.112782  43.609023  49.624060  46.115288\n",
       "26    RBF, gamma= 100, C= 10  45.112782  43.609023  49.624060  46.115288\n",
       "27   RBF, gamma= 100, C= 100  45.112782  43.609023  49.624060  46.115288"
      ]
     },
     "execution_count": 21,
     "metadata": {},
     "output_type": "execute_result"
    }
   ],
   "source": [
    "high_res_summarydf "
   ]
  },
  {
   "cell_type": "markdown",
   "id": "243ff89c",
   "metadata": {},
   "source": [
    "### Low Resolution Images"
   ]
  },
  {
   "cell_type": "code",
   "execution_count": 22,
   "id": "4daa1608",
   "metadata": {},
   "outputs": [
    {
     "name": "stdout",
     "output_type": "stream",
     "text": [
      "Best average error:  [7.26817043 7.26817043]\n",
      "Best parameters:  ['RBF, gamma= 0.1, C= 1', 'RBF, gamma= 0.1, C= 10']\n"
     ]
    }
   ],
   "source": [
    "misclassifications_lowres = [np.concatenate([fold1_poly_misclassifications_lowres,fold1_RBF_misclassifications_lowres]), np.concatenate([fold2_poly_misclassifications_lowres,fold2_RBF_misclassifications_lowres]), np.concatenate([fold3_poly_misclassifications_lowres,fold3_RBF_misclassifications_lowres])]\n",
    "kernel_summaries_lowres= [np.concatenate([fold1_poly_results_lowres, fold1_RBF_results_lowres]), np.concatenate([fold2_poly_results_lowres, fold2_RBF_results_lowres]), np.concatenate([fold3_poly_results_lowres, fold3_RBF_results_lowres])]\n",
    "\n",
    "low_res_summarydf = SVM_functions.get_optimum_params(misclassifications_lowres, kernel_summaries_lowres)\n",
    "\n"
   ]
  },
  {
   "cell_type": "code",
   "execution_count": 23,
   "id": "f382e1f2",
   "metadata": {},
   "outputs": [
    {
     "data": {
      "text/html": [
       "<div>\n",
       "<style scoped>\n",
       "    .dataframe tbody tr th:only-of-type {\n",
       "        vertical-align: middle;\n",
       "    }\n",
       "\n",
       "    .dataframe tbody tr th {\n",
       "        vertical-align: top;\n",
       "    }\n",
       "\n",
       "    .dataframe thead th {\n",
       "        text-align: right;\n",
       "    }\n",
       "</style>\n",
       "<table border=\"1\" class=\"dataframe\">\n",
       "  <thead>\n",
       "    <tr style=\"text-align: right;\">\n",
       "      <th></th>\n",
       "      <th>Params</th>\n",
       "      <th>Fold1</th>\n",
       "      <th>Fold2</th>\n",
       "      <th>Fold3</th>\n",
       "      <th>Average</th>\n",
       "    </tr>\n",
       "  </thead>\n",
       "  <tbody>\n",
       "    <tr>\n",
       "      <th>0</th>\n",
       "      <td>Polynomial, d= 1, C= 0.1</td>\n",
       "      <td>11.278195</td>\n",
       "      <td>6.766917</td>\n",
       "      <td>8.270677</td>\n",
       "      <td>8.771930</td>\n",
       "    </tr>\n",
       "    <tr>\n",
       "      <th>1</th>\n",
       "      <td>Polynomial, d= 1, C= 1</td>\n",
       "      <td>9.022556</td>\n",
       "      <td>11.278195</td>\n",
       "      <td>8.270677</td>\n",
       "      <td>9.523810</td>\n",
       "    </tr>\n",
       "    <tr>\n",
       "      <th>2</th>\n",
       "      <td>Polynomial, d= 1, C= 10</td>\n",
       "      <td>13.533835</td>\n",
       "      <td>15.037594</td>\n",
       "      <td>11.278195</td>\n",
       "      <td>13.283208</td>\n",
       "    </tr>\n",
       "    <tr>\n",
       "      <th>3</th>\n",
       "      <td>Polynomial, d= 1, C= 100</td>\n",
       "      <td>9.774436</td>\n",
       "      <td>14.285714</td>\n",
       "      <td>11.278195</td>\n",
       "      <td>11.779449</td>\n",
       "    </tr>\n",
       "    <tr>\n",
       "      <th>4</th>\n",
       "      <td>Polynomial, d= 2, C= 0.1</td>\n",
       "      <td>23.308271</td>\n",
       "      <td>20.300752</td>\n",
       "      <td>18.796992</td>\n",
       "      <td>20.802005</td>\n",
       "    </tr>\n",
       "    <tr>\n",
       "      <th>5</th>\n",
       "      <td>Polynomial, d= 2, C= 1</td>\n",
       "      <td>22.556391</td>\n",
       "      <td>20.300752</td>\n",
       "      <td>23.308271</td>\n",
       "      <td>22.055138</td>\n",
       "    </tr>\n",
       "    <tr>\n",
       "      <th>6</th>\n",
       "      <td>Polynomial, d= 2, C= 10</td>\n",
       "      <td>22.556391</td>\n",
       "      <td>20.300752</td>\n",
       "      <td>23.308271</td>\n",
       "      <td>22.055138</td>\n",
       "    </tr>\n",
       "    <tr>\n",
       "      <th>7</th>\n",
       "      <td>Polynomial, d= 2, C= 100</td>\n",
       "      <td>22.556391</td>\n",
       "      <td>20.300752</td>\n",
       "      <td>23.308271</td>\n",
       "      <td>22.055138</td>\n",
       "    </tr>\n",
       "    <tr>\n",
       "      <th>8</th>\n",
       "      <td>Polynomial, d= 3, C= 0.1</td>\n",
       "      <td>14.285714</td>\n",
       "      <td>7.518797</td>\n",
       "      <td>13.533835</td>\n",
       "      <td>11.779449</td>\n",
       "    </tr>\n",
       "    <tr>\n",
       "      <th>9</th>\n",
       "      <td>Polynomial, d= 3, C= 1</td>\n",
       "      <td>14.285714</td>\n",
       "      <td>7.518797</td>\n",
       "      <td>13.533835</td>\n",
       "      <td>11.779449</td>\n",
       "    </tr>\n",
       "    <tr>\n",
       "      <th>10</th>\n",
       "      <td>Polynomial, d= 3, C= 10</td>\n",
       "      <td>14.285714</td>\n",
       "      <td>7.518797</td>\n",
       "      <td>13.533835</td>\n",
       "      <td>11.779449</td>\n",
       "    </tr>\n",
       "    <tr>\n",
       "      <th>11</th>\n",
       "      <td>Polynomial, d= 3, C= 100</td>\n",
       "      <td>14.285714</td>\n",
       "      <td>7.518797</td>\n",
       "      <td>13.533835</td>\n",
       "      <td>11.779449</td>\n",
       "    </tr>\n",
       "    <tr>\n",
       "      <th>12</th>\n",
       "      <td>RBF, gamma= 0.1, C= 0.1</td>\n",
       "      <td>45.112782</td>\n",
       "      <td>43.609023</td>\n",
       "      <td>49.624060</td>\n",
       "      <td>46.115288</td>\n",
       "    </tr>\n",
       "    <tr>\n",
       "      <th>13</th>\n",
       "      <td>RBF, gamma= 0.1, C= 1</td>\n",
       "      <td>8.270677</td>\n",
       "      <td>6.015038</td>\n",
       "      <td>7.518797</td>\n",
       "      <td>7.268170</td>\n",
       "    </tr>\n",
       "    <tr>\n",
       "      <th>14</th>\n",
       "      <td>RBF, gamma= 0.1, C= 10</td>\n",
       "      <td>7.518797</td>\n",
       "      <td>6.766917</td>\n",
       "      <td>7.518797</td>\n",
       "      <td>7.268170</td>\n",
       "    </tr>\n",
       "    <tr>\n",
       "      <th>15</th>\n",
       "      <td>RBF, gamma= 0.1, C= 100</td>\n",
       "      <td>7.518797</td>\n",
       "      <td>7.518797</td>\n",
       "      <td>7.518797</td>\n",
       "      <td>7.518797</td>\n",
       "    </tr>\n",
       "    <tr>\n",
       "      <th>16</th>\n",
       "      <td>RBF, gamma= 1, C= 0.1</td>\n",
       "      <td>45.112782</td>\n",
       "      <td>43.609023</td>\n",
       "      <td>49.624060</td>\n",
       "      <td>46.115288</td>\n",
       "    </tr>\n",
       "    <tr>\n",
       "      <th>17</th>\n",
       "      <td>RBF, gamma= 1, C= 1</td>\n",
       "      <td>28.571429</td>\n",
       "      <td>22.556391</td>\n",
       "      <td>39.097744</td>\n",
       "      <td>30.075188</td>\n",
       "    </tr>\n",
       "    <tr>\n",
       "      <th>18</th>\n",
       "      <td>RBF, gamma= 1, C= 10</td>\n",
       "      <td>26.315789</td>\n",
       "      <td>21.804511</td>\n",
       "      <td>36.090226</td>\n",
       "      <td>28.070175</td>\n",
       "    </tr>\n",
       "    <tr>\n",
       "      <th>19</th>\n",
       "      <td>RBF, gamma= 1, C= 100</td>\n",
       "      <td>26.315789</td>\n",
       "      <td>21.804511</td>\n",
       "      <td>36.090226</td>\n",
       "      <td>28.070175</td>\n",
       "    </tr>\n",
       "    <tr>\n",
       "      <th>20</th>\n",
       "      <td>RBF, gamma= 10, C= 0.1</td>\n",
       "      <td>45.112782</td>\n",
       "      <td>43.609023</td>\n",
       "      <td>49.624060</td>\n",
       "      <td>46.115288</td>\n",
       "    </tr>\n",
       "    <tr>\n",
       "      <th>21</th>\n",
       "      <td>RBF, gamma= 10, C= 1</td>\n",
       "      <td>45.112782</td>\n",
       "      <td>43.609023</td>\n",
       "      <td>49.624060</td>\n",
       "      <td>46.115288</td>\n",
       "    </tr>\n",
       "    <tr>\n",
       "      <th>22</th>\n",
       "      <td>RBF, gamma= 10, C= 10</td>\n",
       "      <td>45.112782</td>\n",
       "      <td>43.609023</td>\n",
       "      <td>49.624060</td>\n",
       "      <td>46.115288</td>\n",
       "    </tr>\n",
       "    <tr>\n",
       "      <th>23</th>\n",
       "      <td>RBF, gamma= 10, C= 100</td>\n",
       "      <td>45.112782</td>\n",
       "      <td>43.609023</td>\n",
       "      <td>49.624060</td>\n",
       "      <td>46.115288</td>\n",
       "    </tr>\n",
       "    <tr>\n",
       "      <th>24</th>\n",
       "      <td>RBF, gamma= 100, C= 0.1</td>\n",
       "      <td>45.112782</td>\n",
       "      <td>43.609023</td>\n",
       "      <td>49.624060</td>\n",
       "      <td>46.115288</td>\n",
       "    </tr>\n",
       "    <tr>\n",
       "      <th>25</th>\n",
       "      <td>RBF, gamma= 100, C= 1</td>\n",
       "      <td>45.112782</td>\n",
       "      <td>43.609023</td>\n",
       "      <td>49.624060</td>\n",
       "      <td>46.115288</td>\n",
       "    </tr>\n",
       "    <tr>\n",
       "      <th>26</th>\n",
       "      <td>RBF, gamma= 100, C= 10</td>\n",
       "      <td>45.112782</td>\n",
       "      <td>43.609023</td>\n",
       "      <td>49.624060</td>\n",
       "      <td>46.115288</td>\n",
       "    </tr>\n",
       "    <tr>\n",
       "      <th>27</th>\n",
       "      <td>RBF, gamma= 100, C= 100</td>\n",
       "      <td>45.112782</td>\n",
       "      <td>43.609023</td>\n",
       "      <td>49.624060</td>\n",
       "      <td>46.115288</td>\n",
       "    </tr>\n",
       "  </tbody>\n",
       "</table>\n",
       "</div>"
      ],
      "text/plain": [
       "                      Params      Fold1      Fold2      Fold3    Average\n",
       "0   Polynomial, d= 1, C= 0.1  11.278195   6.766917   8.270677   8.771930\n",
       "1     Polynomial, d= 1, C= 1   9.022556  11.278195   8.270677   9.523810\n",
       "2    Polynomial, d= 1, C= 10  13.533835  15.037594  11.278195  13.283208\n",
       "3   Polynomial, d= 1, C= 100   9.774436  14.285714  11.278195  11.779449\n",
       "4   Polynomial, d= 2, C= 0.1  23.308271  20.300752  18.796992  20.802005\n",
       "5     Polynomial, d= 2, C= 1  22.556391  20.300752  23.308271  22.055138\n",
       "6    Polynomial, d= 2, C= 10  22.556391  20.300752  23.308271  22.055138\n",
       "7   Polynomial, d= 2, C= 100  22.556391  20.300752  23.308271  22.055138\n",
       "8   Polynomial, d= 3, C= 0.1  14.285714   7.518797  13.533835  11.779449\n",
       "9     Polynomial, d= 3, C= 1  14.285714   7.518797  13.533835  11.779449\n",
       "10   Polynomial, d= 3, C= 10  14.285714   7.518797  13.533835  11.779449\n",
       "11  Polynomial, d= 3, C= 100  14.285714   7.518797  13.533835  11.779449\n",
       "12   RBF, gamma= 0.1, C= 0.1  45.112782  43.609023  49.624060  46.115288\n",
       "13     RBF, gamma= 0.1, C= 1   8.270677   6.015038   7.518797   7.268170\n",
       "14    RBF, gamma= 0.1, C= 10   7.518797   6.766917   7.518797   7.268170\n",
       "15   RBF, gamma= 0.1, C= 100   7.518797   7.518797   7.518797   7.518797\n",
       "16     RBF, gamma= 1, C= 0.1  45.112782  43.609023  49.624060  46.115288\n",
       "17       RBF, gamma= 1, C= 1  28.571429  22.556391  39.097744  30.075188\n",
       "18      RBF, gamma= 1, C= 10  26.315789  21.804511  36.090226  28.070175\n",
       "19     RBF, gamma= 1, C= 100  26.315789  21.804511  36.090226  28.070175\n",
       "20    RBF, gamma= 10, C= 0.1  45.112782  43.609023  49.624060  46.115288\n",
       "21      RBF, gamma= 10, C= 1  45.112782  43.609023  49.624060  46.115288\n",
       "22     RBF, gamma= 10, C= 10  45.112782  43.609023  49.624060  46.115288\n",
       "23    RBF, gamma= 10, C= 100  45.112782  43.609023  49.624060  46.115288\n",
       "24   RBF, gamma= 100, C= 0.1  45.112782  43.609023  49.624060  46.115288\n",
       "25     RBF, gamma= 100, C= 1  45.112782  43.609023  49.624060  46.115288\n",
       "26    RBF, gamma= 100, C= 10  45.112782  43.609023  49.624060  46.115288\n",
       "27   RBF, gamma= 100, C= 100  45.112782  43.609023  49.624060  46.115288"
      ]
     },
     "execution_count": 23,
     "metadata": {},
     "output_type": "execute_result"
    }
   ],
   "source": [
    "low_res_summarydf"
   ]
  },
  {
   "cell_type": "markdown",
   "id": "09368456",
   "metadata": {},
   "source": [
    "# Using the SVM model trained on (γopt, Copt), compute the classification error on the test set. This process must be repeated for each fold separately to compute the classification error for each fold as well as the average classification error over all folds as described earlier."
   ]
  },
  {
   "cell_type": "markdown",
   "id": "31c02ba7",
   "metadata": {},
   "source": [
    "## Fold 1 "
   ]
  },
  {
   "cell_type": "markdown",
   "id": "49fead15",
   "metadata": {},
   "source": [
    "### High Resolution"
   ]
  },
  {
   "cell_type": "code",
   "execution_count": 24,
   "id": "e1c4cf2b",
   "metadata": {},
   "outputs": [],
   "source": [
    "test_eigencoefficients_f1 = np.loadtxt('GenderDataRowOrder/48_60/tsPCA_01.txt')\n",
    "test_class_labels_f1  = np.loadtxt('GenderDataRowOrder/48_60/TtsPCA_01.txt')"
   ]
  },
  {
   "cell_type": "code",
   "execution_count": 25,
   "id": "e46eebbf",
   "metadata": {},
   "outputs": [
    {
     "name": "stdout",
     "output_type": "stream",
     "text": [
      "*.*\n",
      "optimization finished, #iter = 165\n",
      "nu = 0.565958\n",
      "obj = -48.349285, rho = -0.448555\n",
      "nSV = 96, nBSV = 55\n",
      "Total nSV = 96\n",
      "Accuracy = 80.4511% (107/133) (classification)\n"
     ]
    }
   ],
   "source": [
    "params= '-s 0 -t 2 -g 0.1 -c 1'\n",
    "e1 = SVM_functions.run_SVM(train_eigencoefficients_f1[:,:30], train_class_labels_f1, test_eigencoefficients_f1[:,:30], test_class_labels_f1, params)\n"
   ]
  },
  {
   "cell_type": "markdown",
   "id": "d4223f61",
   "metadata": {},
   "source": [
    "### Low Resolution"
   ]
  },
  {
   "cell_type": "code",
   "execution_count": 26,
   "id": "69771a9b",
   "metadata": {},
   "outputs": [],
   "source": [
    "test_eigencoefficients_f1_lowres = np.loadtxt('GenderDataRowOrder/16_20/tsPCA_01.txt')\n",
    "test_class_labels_f1_lowres  = np.loadtxt('GenderDataRowOrder/16_20/TtsPCA_01.txt')"
   ]
  },
  {
   "cell_type": "code",
   "execution_count": 27,
   "id": "58693734",
   "metadata": {},
   "outputs": [
    {
     "name": "stdout",
     "output_type": "stream",
     "text": [
      "*.*\n",
      "optimization finished, #iter = 168\n",
      "nu = 0.610539\n",
      "obj = -51.696565, rho = -0.202279\n",
      "nSV = 107, nBSV = 62\n",
      "Total nSV = 107\n",
      "Accuracy = 90.9774% (121/133) (classification)\n"
     ]
    }
   ],
   "source": [
    "params= '-s 0 -t 2 -g 0.1 -c 1'\n",
    "e1_lr = SVM_functions.run_SVM(train_eigencoefficients_f1_lowres[:,:30], train_class_labels_f1_lowres, test_eigencoefficients_f1_lowres[:,:30], test_class_labels_f1_lowres, params)\n",
    "\n"
   ]
  },
  {
   "cell_type": "markdown",
   "id": "82f4a2af",
   "metadata": {},
   "source": [
    "## Fold 2"
   ]
  },
  {
   "cell_type": "markdown",
   "id": "f94d756b",
   "metadata": {},
   "source": [
    "### High Resolution"
   ]
  },
  {
   "cell_type": "code",
   "execution_count": 28,
   "id": "73f10a76",
   "metadata": {},
   "outputs": [],
   "source": [
    "test_eigencoefficients_f2 = np.loadtxt('GenderDataRowOrder/48_60/tsPCA_02.txt')\n",
    "test_class_labels_f2  = np.loadtxt('GenderDataRowOrder/48_60/TtsPCA_02.txt')"
   ]
  },
  {
   "cell_type": "code",
   "execution_count": 29,
   "id": "d83d498e",
   "metadata": {},
   "outputs": [
    {
     "name": "stdout",
     "output_type": "stream",
     "text": [
      "*.*\n",
      "optimization finished, #iter = 172\n",
      "nu = 0.617994\n",
      "obj = -52.360434, rho = -0.111316\n",
      "nSV = 105, nBSV = 57\n",
      "Total nSV = 105\n",
      "Accuracy = 91.7293% (122/133) (classification)\n"
     ]
    }
   ],
   "source": [
    "params= '-s 0 -t 2 -g 0.1 -c 1'\n",
    "e2 = SVM_functions.run_SVM(train_eigencoefficients_f2[:,:30], train_class_labels_f2, test_eigencoefficients_f2[:,:30], test_class_labels_f2, params)\n",
    "\n"
   ]
  },
  {
   "cell_type": "markdown",
   "id": "9b36e1f6",
   "metadata": {},
   "source": [
    "### Low Resolution"
   ]
  },
  {
   "cell_type": "code",
   "execution_count": 30,
   "id": "08234b6f",
   "metadata": {},
   "outputs": [],
   "source": [
    "test_eigencoefficients_f2_lowres = np.loadtxt('GenderDataRowOrder/16_20/tsPCA_02.txt')\n",
    "test_class_labels_f2_lowres  = np.loadtxt('GenderDataRowOrder/16_20/TtsPCA_02.txt')"
   ]
  },
  {
   "cell_type": "code",
   "execution_count": 31,
   "id": "e0d99743",
   "metadata": {},
   "outputs": [
    {
     "name": "stdout",
     "output_type": "stream",
     "text": [
      "*.*\n",
      "optimization finished, #iter = 174\n",
      "nu = 0.653638\n",
      "obj = -56.787041, rho = -0.268447\n",
      "nSV = 108, nBSV = 63\n",
      "Total nSV = 108\n",
      "Accuracy = 90.9774% (121/133) (classification)\n"
     ]
    }
   ],
   "source": [
    "params= '-s 0 -t 2 -g 0.1 -c 1'\n",
    "e2_lr = SVM_functions.run_SVM(train_eigencoefficients_f2_lowres[:,:30], train_class_labels_f2_lowres, test_eigencoefficients_f2_lowres[:,:30], test_class_labels_f2_lowres, params)\n",
    "\n"
   ]
  },
  {
   "cell_type": "markdown",
   "id": "ad178413",
   "metadata": {},
   "source": [
    "## Fold 3"
   ]
  },
  {
   "cell_type": "markdown",
   "id": "040e0c31",
   "metadata": {},
   "source": [
    "### High Resolution"
   ]
  },
  {
   "cell_type": "code",
   "execution_count": 32,
   "id": "72dbc62a",
   "metadata": {},
   "outputs": [],
   "source": [
    "test_eigencoefficients_f3 = np.loadtxt('GenderDataRowOrder/48_60/tsPCA_03.txt')\n",
    "test_class_labels_f3  = np.loadtxt('GenderDataRowOrder/48_60/TtsPCA_03.txt')"
   ]
  },
  {
   "cell_type": "code",
   "execution_count": 33,
   "id": "139136fa",
   "metadata": {},
   "outputs": [
    {
     "name": "stdout",
     "output_type": "stream",
     "text": [
      "*.*\n",
      "optimization finished, #iter = 135\n",
      "nu = 0.543411\n",
      "obj = -46.176618, rho = 0.346135\n",
      "nSV = 91, nBSV = 54\n",
      "Total nSV = 91\n",
      "Accuracy = 86.4662% (115/133) (classification)\n"
     ]
    }
   ],
   "source": [
    "params= '-s 0 -t 2 -g 0.1 -c 1'\n",
    "e3 = SVM_functions.run_SVM(train_eigencoefficients_f3[:,:30], train_class_labels_f3, test_eigencoefficients_f3[:,:30], test_class_labels_f3, params)\n",
    "\n",
    "\n"
   ]
  },
  {
   "cell_type": "markdown",
   "id": "f2fc73d7",
   "metadata": {},
   "source": [
    "### Low Resolution"
   ]
  },
  {
   "cell_type": "code",
   "execution_count": 34,
   "id": "3ea4cac0",
   "metadata": {},
   "outputs": [],
   "source": [
    "test_eigencoefficients_f3_lowres = np.loadtxt('GenderDataRowOrder/16_20/tsPCA_03.txt')\n",
    "test_class_labels_f3_lowres  = np.loadtxt('GenderDataRowOrder/16_20/TtsPCA_03.txt')"
   ]
  },
  {
   "cell_type": "code",
   "execution_count": 35,
   "id": "2493496a",
   "metadata": {},
   "outputs": [
    {
     "name": "stdout",
     "output_type": "stream",
     "text": [
      "*.*\n",
      "optimization finished, #iter = 167\n",
      "nu = 0.614725\n",
      "obj = -51.565169, rho = 0.069233\n",
      "nSV = 102, nBSV = 58\n",
      "Total nSV = 102\n",
      "Accuracy = 90.2256% (120/133) (classification)\n"
     ]
    }
   ],
   "source": [
    "params= '-s 0 -t 2 -g 0.1 -c 1'\n",
    "e3_lr= SVM_functions.run_SVM(train_eigencoefficients_f3_lowres[:,:30], train_class_labels_f3_lowres, test_eigencoefficients_f3_lowres[:,:30], test_class_labels_f3_lowres, params)\n",
    "\n",
    "\n"
   ]
  },
  {
   "cell_type": "markdown",
   "id": "983930e7",
   "metadata": {},
   "source": [
    "# Misclassification rates for all folds"
   ]
  },
  {
   "cell_type": "code",
   "execution_count": 36,
   "id": "bcf3bab2",
   "metadata": {},
   "outputs": [
    {
     "name": "stdout",
     "output_type": "stream",
     "text": [
      "Misclassification Error (48x60): \n",
      " \n",
      " Fold 1: [19.54887218] \n",
      " Fold 2: [8.27067669] \n",
      " Fold 3: [13.53383459] \n",
      " Average: 13.78446115288221\n"
     ]
    }
   ],
   "source": [
    "print('Misclassification Error (48x60): \\n \\n', 'Fold 1:', e1, '\\n Fold 2:', e2, '\\n Fold 3:', e3, '\\n Average:', np.sum([e1,e2,e3])/3)"
   ]
  },
  {
   "cell_type": "code",
   "execution_count": 37,
   "id": "811940f2",
   "metadata": {},
   "outputs": [
    {
     "name": "stdout",
     "output_type": "stream",
     "text": [
      "Misclassification Error (16x20): \n",
      " \n",
      " Fold 1: [9.02255639] \n",
      " Fold 2: [9.02255639] \n",
      " Fold 3: [9.77443609] \n",
      " Average: 9.273182957393482\n"
     ]
    }
   ],
   "source": [
    "print('Misclassification Error (16x20): \\n \\n', 'Fold 1:', e1_lr, '\\n Fold 2:', e2_lr, '\\n Fold 3:', e3_lr, '\\n Average:', np.sum([e1_lr,e2_lr,e3_lr])/3)\n",
    "\n"
   ]
  },
  {
   "cell_type": "code",
   "execution_count": null,
   "id": "2f9e9fe4",
   "metadata": {},
   "outputs": [],
   "source": []
  }
 ],
 "metadata": {
  "kernelspec": {
   "display_name": "Python 3 (ipykernel)",
   "language": "python",
   "name": "python3"
  },
  "language_info": {
   "codemirror_mode": {
    "name": "ipython",
    "version": 3
   },
   "file_extension": ".py",
   "mimetype": "text/x-python",
   "name": "python",
   "nbconvert_exporter": "python",
   "pygments_lexer": "ipython3",
   "version": "3.8.15"
  }
 },
 "nbformat": 4,
 "nbformat_minor": 5
}
